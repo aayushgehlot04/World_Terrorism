{
 "cells": [
  {
   "cell_type": "markdown",
   "metadata": {},
   "source": [
    "# Global Terrorism"
   ]
  },
  {
   "cell_type": "markdown",
   "metadata": {},
   "source": [
    "Terrorism has been described variously as both a tactic and strategy; a crime and a holy duty; a justified reaction to oppression and an inexcusable abomination. Obviously, a lot depends on whose point of view is being represented. Terrorism has often been an effective tactic for the weaker side in a conflict. As an asymmetric form of conflict, it confers coercive power with many of the advantages of military force at a fraction of the cost. Due to the secretive nature and small size of terrorist organizations, they often offer opponents no clear organization to defend against or to deter."
   ]
  },
  {
   "cell_type": "markdown",
   "metadata": {},
   "source": [
    "This dataset contains 170,000 line items of the terrorism activities that happened between 1970 to 2016.With this extensive data,there is an opportunity for a data analyst to dissect and analyse the scenario and come out with interesting findings"
   ]
  },
  {
   "cell_type": "markdown",
   "metadata": {},
   "source": [
    "## Import Libraries and Packages"
   ]
  },
  {
   "cell_type": "code",
   "execution_count": 1,
   "metadata": {},
   "outputs": [
    {
     "data": {
      "text/html": [
       "        <script type=\"text/javascript\">\n",
       "        window.PlotlyConfig = {MathJaxConfig: 'local'};\n",
       "        if (window.MathJax) {MathJax.Hub.Config({SVG: {font: \"STIX-Web\"}});}\n",
       "        if (typeof require !== 'undefined') {\n",
       "        require.undef(\"plotly\");\n",
       "        requirejs.config({\n",
       "            paths: {\n",
       "                'plotly': ['https://cdn.plot.ly/plotly-latest.min']\n",
       "            }\n",
       "        });\n",
       "        require(['plotly'], function(Plotly) {\n",
       "            window._Plotly = Plotly;\n",
       "        });\n",
       "        }\n",
       "        </script>\n",
       "        "
      ]
     },
     "metadata": {},
     "output_type": "display_data"
    },
    {
     "data": {
      "text/html": [
       "        <script type=\"text/javascript\">\n",
       "        window.PlotlyConfig = {MathJaxConfig: 'local'};\n",
       "        if (window.MathJax) {MathJax.Hub.Config({SVG: {font: \"STIX-Web\"}});}\n",
       "        if (typeof require !== 'undefined') {\n",
       "        require.undef(\"plotly\");\n",
       "        requirejs.config({\n",
       "            paths: {\n",
       "                'plotly': ['https://cdn.plot.ly/plotly-latest.min']\n",
       "            }\n",
       "        });\n",
       "        require(['plotly'], function(Plotly) {\n",
       "            window._Plotly = Plotly;\n",
       "        });\n",
       "        }\n",
       "        </script>\n",
       "        "
      ]
     },
     "metadata": {},
     "output_type": "display_data"
    }
   ],
   "source": [
    "import pandas as pd \n",
    "import seaborn as sns\n",
    "import numpy as np\n",
    "import os\n",
    "import chart_studio\n",
    "from chart_studio.plotly import iplot\n",
    "import cufflinks as cf\n",
    "import plotly.plotly as py\n",
    "from plotly.graph_objs import *\n",
    "import chart_studio.plotly\n",
    "cf.set_config_file(offline=True, world_readable=True, theme='ggplot')\n",
    "from subprocess import check_output\n",
    "cf.go_offline()\n",
    "cf.set_config_file(offline=False, world_readable=True)"
   ]
  },
  {
   "cell_type": "markdown",
   "metadata": {},
   "source": [
    "#### Set Directory"
   ]
  },
  {
   "cell_type": "code",
   "execution_count": 2,
   "metadata": {},
   "outputs": [],
   "source": [
    "os.getcwd() \n",
    "os.chdir(r\"D:\\OneDrive - Temple University\\Python\\Terroism\") "
   ]
  },
  {
   "cell_type": "markdown",
   "metadata": {},
   "source": [
    "### Importing the Dataset"
   ]
  },
  {
   "cell_type": "code",
   "execution_count": 3,
   "metadata": {
    "scrolled": true
   },
   "outputs": [
    {
     "data": {
      "text/html": [
       "<div>\n",
       "<style scoped>\n",
       "    .dataframe tbody tr th:only-of-type {\n",
       "        vertical-align: middle;\n",
       "    }\n",
       "\n",
       "    .dataframe tbody tr th {\n",
       "        vertical-align: top;\n",
       "    }\n",
       "\n",
       "    .dataframe thead th {\n",
       "        text-align: right;\n",
       "    }\n",
       "</style>\n",
       "<table border=\"1\" class=\"dataframe\">\n",
       "  <thead>\n",
       "    <tr style=\"text-align: right;\">\n",
       "      <th></th>\n",
       "      <th>eventid</th>\n",
       "      <th>iyear</th>\n",
       "      <th>imonth</th>\n",
       "      <th>iday</th>\n",
       "      <th>approxdate</th>\n",
       "      <th>extended</th>\n",
       "      <th>resolution</th>\n",
       "      <th>country</th>\n",
       "      <th>country_txt</th>\n",
       "      <th>region</th>\n",
       "      <th>...</th>\n",
       "      <th>addnotes</th>\n",
       "      <th>scite1</th>\n",
       "      <th>scite2</th>\n",
       "      <th>scite3</th>\n",
       "      <th>dbsource</th>\n",
       "      <th>INT_LOG</th>\n",
       "      <th>INT_IDEO</th>\n",
       "      <th>INT_MISC</th>\n",
       "      <th>INT_ANY</th>\n",
       "      <th>related</th>\n",
       "    </tr>\n",
       "  </thead>\n",
       "  <tbody>\n",
       "    <tr>\n",
       "      <td>0</td>\n",
       "      <td>1.970000e+11</td>\n",
       "      <td>1970</td>\n",
       "      <td>7</td>\n",
       "      <td>2</td>\n",
       "      <td>NaN</td>\n",
       "      <td>0</td>\n",
       "      <td>NaN</td>\n",
       "      <td>58</td>\n",
       "      <td>Dominican Republic</td>\n",
       "      <td>2</td>\n",
       "      <td>...</td>\n",
       "      <td>NaN</td>\n",
       "      <td>NaN</td>\n",
       "      <td>NaN</td>\n",
       "      <td>NaN</td>\n",
       "      <td>PGIS</td>\n",
       "      <td>0</td>\n",
       "      <td>0</td>\n",
       "      <td>0</td>\n",
       "      <td>0</td>\n",
       "      <td>NaN</td>\n",
       "    </tr>\n",
       "    <tr>\n",
       "      <td>1</td>\n",
       "      <td>1.970000e+11</td>\n",
       "      <td>1970</td>\n",
       "      <td>0</td>\n",
       "      <td>0</td>\n",
       "      <td>NaN</td>\n",
       "      <td>0</td>\n",
       "      <td>NaN</td>\n",
       "      <td>130</td>\n",
       "      <td>Mexico</td>\n",
       "      <td>1</td>\n",
       "      <td>...</td>\n",
       "      <td>NaN</td>\n",
       "      <td>NaN</td>\n",
       "      <td>NaN</td>\n",
       "      <td>NaN</td>\n",
       "      <td>PGIS</td>\n",
       "      <td>0</td>\n",
       "      <td>1</td>\n",
       "      <td>1</td>\n",
       "      <td>1</td>\n",
       "      <td>NaN</td>\n",
       "    </tr>\n",
       "  </tbody>\n",
       "</table>\n",
       "<p>2 rows × 135 columns</p>\n",
       "</div>"
      ],
      "text/plain": [
       "        eventid  iyear  imonth  iday approxdate  extended resolution  country  \\\n",
       "0  1.970000e+11   1970       7     2        NaN         0        NaN       58   \n",
       "1  1.970000e+11   1970       0     0        NaN         0        NaN      130   \n",
       "\n",
       "          country_txt  region  ... addnotes scite1 scite2  scite3  dbsource  \\\n",
       "0  Dominican Republic       2  ...      NaN    NaN    NaN     NaN      PGIS   \n",
       "1              Mexico       1  ...      NaN    NaN    NaN     NaN      PGIS   \n",
       "\n",
       "   INT_LOG  INT_IDEO INT_MISC INT_ANY  related  \n",
       "0        0         0        0       0      NaN  \n",
       "1        0         1        1       1      NaN  \n",
       "\n",
       "[2 rows x 135 columns]"
      ]
     },
     "execution_count": 3,
     "metadata": {},
     "output_type": "execute_result"
    }
   ],
   "source": [
    "data = pd.read_csv(\"terrorism.csv\", encoding='latin', low_memory=False) \n",
    "data.head(2)"
   ]
  },
  {
   "cell_type": "markdown",
   "metadata": {},
   "source": [
    "#### Brief view of the dataset\n",
    "Initial dataset contain 135 columns, 181690 records and 3 data types used inn the dataset (float64(56), int64(21), object(58))"
   ]
  },
  {
   "cell_type": "code",
   "execution_count": 4,
   "metadata": {
    "scrolled": true
   },
   "outputs": [
    {
     "name": "stdout",
     "output_type": "stream",
     "text": [
      "<class 'pandas.core.frame.DataFrame'>\n",
      "RangeIndex: 181691 entries, 0 to 181690\n",
      "Columns: 135 entries, eventid to related\n",
      "dtypes: float64(56), int64(21), object(58)\n",
      "memory usage: 187.1+ MB\n"
     ]
    }
   ],
   "source": [
    "data.info()"
   ]
  },
  {
   "cell_type": "markdown",
   "metadata": {},
   "source": [
    "Shape of dataset : 135 columns , 181619 rows"
   ]
  },
  {
   "cell_type": "code",
   "execution_count": 5,
   "metadata": {
    "scrolled": true
   },
   "outputs": [
    {
     "data": {
      "text/plain": [
       "(181691, 135)"
      ]
     },
     "execution_count": 5,
     "metadata": {},
     "output_type": "execute_result"
    }
   ],
   "source": [
    "data.shape"
   ]
  },
  {
   "cell_type": "markdown",
   "metadata": {},
   "source": [
    "Defining the frame so that we can easy see the data"
   ]
  },
  {
   "cell_type": "code",
   "execution_count": 6,
   "metadata": {},
   "outputs": [],
   "source": [
    "pd.set_option('display.max_rows', 500)\n",
    "pd.set_option('display.max_columns', 500)\n",
    "pd.set_option('display.width', 1000)"
   ]
  },
  {
   "cell_type": "markdown",
   "metadata": {},
   "source": [
    "#### Checking got Null Values \n",
    "In the initial dataset there are lot of null values"
   ]
  },
  {
   "cell_type": "code",
   "execution_count": 7,
   "metadata": {
    "scrolled": true
   },
   "outputs": [
    {
     "data": {
      "text/plain": [
       "eventid                    0\n",
       "iyear                      0\n",
       "imonth                     0\n",
       "iday                       0\n",
       "approxdate            172452\n",
       "extended                   0\n",
       "resolution            179471\n",
       "country                    0\n",
       "country_txt                0\n",
       "region                     0\n",
       "region_txt                 0\n",
       "provstate                421\n",
       "city                     434\n",
       "latitude                4556\n",
       "longitude               4557\n",
       "specificity                6\n",
       "vicinity                   0\n",
       "location              126196\n",
       "summary                66129\n",
       "crit1                      0\n",
       "crit2                      0\n",
       "crit3                      0\n",
       "doubtterr                  1\n",
       "alternative           152680\n",
       "alternative_txt       152680\n",
       "multiple                   1\n",
       "success                    0\n",
       "suicide                    0\n",
       "attacktype1                0\n",
       "attacktype1_txt            0\n",
       "attacktype2           175377\n",
       "attacktype2_txt       175377\n",
       "attacktype3           181263\n",
       "attacktype3_txt       181263\n",
       "targtype1                  0\n",
       "targtype1_txt              0\n",
       "targsubtype1           10373\n",
       "targsubtype1_txt       10373\n",
       "corp1                  42550\n",
       "target1                  636\n",
       "natlty1                 1559\n",
       "natlty1_txt             1559\n",
       "targtype2             170547\n",
       "targtype2_txt         170547\n",
       "targsubtype2          171006\n",
       "targsubtype2_txt      171006\n",
       "corp2                 171574\n",
       "target2               170671\n",
       "natlty2               170863\n",
       "natlty2_txt           170863\n",
       "targtype3             180515\n",
       "targtype3_txt         180515\n",
       "targsubtype3          180594\n",
       "targsubtype3_txt      180594\n",
       "corp3                 180665\n",
       "target3               180516\n",
       "natlty3               180544\n",
       "natlty3_txt           180544\n",
       "gname                      0\n",
       "gsubname              175801\n",
       "gname2                179678\n",
       "gsubname2             181531\n",
       "gname3                181367\n",
       "gsubname3             181671\n",
       "motive                131130\n",
       "guncertain1              380\n",
       "guncertain2           179736\n",
       "guncertain3           181371\n",
       "individual                 0\n",
       "nperps                 71115\n",
       "nperpcap               69489\n",
       "claimed                66120\n",
       "claimmode             162608\n",
       "claimmode_txt         162608\n",
       "claim2                179801\n",
       "claimmode2            181075\n",
       "claimmode2_txt        181075\n",
       "claim3                181373\n",
       "claimmode3            181558\n",
       "claimmode3_txt        181558\n",
       "compclaim             176852\n",
       "weaptype1                  0\n",
       "weaptype1_txt              0\n",
       "weapsubtype1           20768\n",
       "weapsubtype1_txt       20768\n",
       "weaptype2             168564\n",
       "weaptype2_txt         168564\n",
       "weapsubtype2          170149\n",
       "weapsubtype2_txt      170149\n",
       "weaptype3             179828\n",
       "weaptype3_txt         179828\n",
       "weapsubtype3          179998\n",
       "weapsubtype3_txt      179998\n",
       "weaptype4             181618\n",
       "weaptype4_txt         181618\n",
       "weapsubtype4          181621\n",
       "weapsubtype4_txt      181621\n",
       "weapdetail             67670\n",
       "nkill                  10313\n",
       "nkillus                64446\n",
       "nkillter               66958\n",
       "nwound                 16311\n",
       "nwoundus               64702\n",
       "nwoundte               69143\n",
       "property                   0\n",
       "propextent            117626\n",
       "propextent_txt        117626\n",
       "propvalue             142702\n",
       "propcomment           123732\n",
       "ishostkid                178\n",
       "nhostkid              168119\n",
       "nhostkidus            168174\n",
       "nhours                177628\n",
       "ndays                 173567\n",
       "divert                181367\n",
       "kidhijcountry         178386\n",
       "ransom                104310\n",
       "ransomamt             180341\n",
       "ransomamtus           181128\n",
       "ransompaid            180917\n",
       "ransompaidus          181139\n",
       "ransomnote            181177\n",
       "hostkidoutcome        170700\n",
       "hostkidoutcome_txt    170700\n",
       "nreleased             171291\n",
       "addnotes              153402\n",
       "scite1                 66191\n",
       "scite2                104758\n",
       "scite3                138175\n",
       "dbsource                   0\n",
       "INT_LOG                    0\n",
       "INT_IDEO                   0\n",
       "INT_MISC                   0\n",
       "INT_ANY                    0\n",
       "related               156653\n",
       "dtype: int64"
      ]
     },
     "execution_count": 7,
     "metadata": {},
     "output_type": "execute_result"
    }
   ],
   "source": [
    "data.isnull().sum()"
   ]
  },
  {
   "cell_type": "markdown",
   "metadata": {},
   "source": [
    "### Remaning the columns\n",
    "Remainng columns in order to standardize gthe naming convention"
   ]
  },
  {
   "cell_type": "code",
   "execution_count": 8,
   "metadata": {},
   "outputs": [],
   "source": [
    "data.rename(columns={'iyear':'Year','imonth':'Month','iday':'Day','country_txt':'Country',\n",
    "                    'provstate':'state','natlty1_txt': 'Nationality','weaptype1_txt': 'WeaponType',\n",
    "                     'region_txt':'Region','attacktype1_txt':'AttackType',\n",
    "                    'target1':'Target','nkill':'Killed','nwound':'Wounded','summary':'Summary',\n",
    "                    'gname':'Group','targtype1_txt':'Target_type','weaptype1_txt':'Weapon_type',\n",
    "                    'motive':'Motive'},inplace=True)"
   ]
  },
  {
   "cell_type": "markdown",
   "metadata": {},
   "source": [
    "Checking the datatype of all the selected columns"
   ]
  },
  {
   "cell_type": "code",
   "execution_count": 9,
   "metadata": {
    "scrolled": true
   },
   "outputs": [
    {
     "data": {
      "text/plain": [
       "eventid               float64\n",
       "Year                    int64\n",
       "Month                   int64\n",
       "Day                     int64\n",
       "approxdate             object\n",
       "extended                int64\n",
       "resolution             object\n",
       "country                 int64\n",
       "Country                object\n",
       "region                  int64\n",
       "Region                 object\n",
       "state                  object\n",
       "city                   object\n",
       "latitude              float64\n",
       "longitude             float64\n",
       "specificity           float64\n",
       "vicinity                int64\n",
       "location               object\n",
       "Summary                object\n",
       "crit1                   int64\n",
       "crit2                   int64\n",
       "crit3                   int64\n",
       "doubtterr             float64\n",
       "alternative           float64\n",
       "alternative_txt        object\n",
       "multiple              float64\n",
       "success                 int64\n",
       "suicide                 int64\n",
       "attacktype1             int64\n",
       "AttackType             object\n",
       "attacktype2           float64\n",
       "attacktype2_txt        object\n",
       "attacktype3           float64\n",
       "attacktype3_txt        object\n",
       "targtype1               int64\n",
       "Target_type            object\n",
       "targsubtype1          float64\n",
       "targsubtype1_txt       object\n",
       "corp1                  object\n",
       "Target                 object\n",
       "natlty1               float64\n",
       "Nationality            object\n",
       "targtype2             float64\n",
       "targtype2_txt          object\n",
       "targsubtype2          float64\n",
       "targsubtype2_txt       object\n",
       "corp2                  object\n",
       "target2                object\n",
       "natlty2               float64\n",
       "natlty2_txt            object\n",
       "targtype3             float64\n",
       "targtype3_txt          object\n",
       "targsubtype3          float64\n",
       "targsubtype3_txt       object\n",
       "corp3                  object\n",
       "target3                object\n",
       "natlty3               float64\n",
       "natlty3_txt            object\n",
       "Group                  object\n",
       "gsubname               object\n",
       "gname2                 object\n",
       "gsubname2              object\n",
       "gname3                 object\n",
       "gsubname3              object\n",
       "Motive                 object\n",
       "guncertain1           float64\n",
       "guncertain2           float64\n",
       "guncertain3           float64\n",
       "individual              int64\n",
       "nperps                float64\n",
       "nperpcap              float64\n",
       "claimed               float64\n",
       "claimmode             float64\n",
       "claimmode_txt          object\n",
       "claim2                float64\n",
       "claimmode2            float64\n",
       "claimmode2_txt         object\n",
       "claim3                float64\n",
       "claimmode3            float64\n",
       "claimmode3_txt         object\n",
       "compclaim             float64\n",
       "weaptype1               int64\n",
       "Weapon_type            object\n",
       "weapsubtype1          float64\n",
       "weapsubtype1_txt       object\n",
       "weaptype2             float64\n",
       "weaptype2_txt          object\n",
       "weapsubtype2          float64\n",
       "weapsubtype2_txt       object\n",
       "weaptype3             float64\n",
       "weaptype3_txt          object\n",
       "weapsubtype3          float64\n",
       "weapsubtype3_txt       object\n",
       "weaptype4             float64\n",
       "weaptype4_txt          object\n",
       "weapsubtype4          float64\n",
       "weapsubtype4_txt       object\n",
       "weapdetail             object\n",
       "Killed                float64\n",
       "nkillus               float64\n",
       "nkillter              float64\n",
       "Wounded               float64\n",
       "nwoundus              float64\n",
       "nwoundte              float64\n",
       "property                int64\n",
       "propextent            float64\n",
       "propextent_txt         object\n",
       "propvalue             float64\n",
       "propcomment            object\n",
       "ishostkid             float64\n",
       "nhostkid              float64\n",
       "nhostkidus            float64\n",
       "nhours                float64\n",
       "ndays                 float64\n",
       "divert                 object\n",
       "kidhijcountry          object\n",
       "ransom                float64\n",
       "ransomamt             float64\n",
       "ransomamtus           float64\n",
       "ransompaid            float64\n",
       "ransompaidus          float64\n",
       "ransomnote             object\n",
       "hostkidoutcome        float64\n",
       "hostkidoutcome_txt     object\n",
       "nreleased             float64\n",
       "addnotes               object\n",
       "scite1                 object\n",
       "scite2                 object\n",
       "scite3                 object\n",
       "dbsource               object\n",
       "INT_LOG                 int64\n",
       "INT_IDEO                int64\n",
       "INT_MISC                int64\n",
       "INT_ANY                 int64\n",
       "related                object\n",
       "dtype: object"
      ]
     },
     "execution_count": 9,
     "metadata": {},
     "output_type": "execute_result"
    }
   ],
   "source": [
    "data.dtypes"
   ]
  },
  {
   "cell_type": "code",
   "execution_count": 11,
   "metadata": {},
   "outputs": [],
   "source": [
    "data=data[['Year','Month','Day','Country','state','Region','city',\n",
    "                     'latitude','longitude','AttackType','Killed','Wounded', 'Nationality', \n",
    "                     'Weapon_type','Target','Summary','Group','Target_type',\n",
    "                     'Motive']]"
   ]
  },
  {
   "cell_type": "code",
   "execution_count": 12,
   "metadata": {
    "scrolled": false
   },
   "outputs": [
    {
     "data": {
      "text/html": [
       "<div>\n",
       "<style scoped>\n",
       "    .dataframe tbody tr th:only-of-type {\n",
       "        vertical-align: middle;\n",
       "    }\n",
       "\n",
       "    .dataframe tbody tr th {\n",
       "        vertical-align: top;\n",
       "    }\n",
       "\n",
       "    .dataframe thead th {\n",
       "        text-align: right;\n",
       "    }\n",
       "</style>\n",
       "<table border=\"1\" class=\"dataframe\">\n",
       "  <thead>\n",
       "    <tr style=\"text-align: right;\">\n",
       "      <th></th>\n",
       "      <th>Year</th>\n",
       "      <th>Month</th>\n",
       "      <th>Day</th>\n",
       "      <th>Country</th>\n",
       "      <th>state</th>\n",
       "      <th>Region</th>\n",
       "      <th>city</th>\n",
       "      <th>latitude</th>\n",
       "      <th>longitude</th>\n",
       "      <th>AttackType</th>\n",
       "      <th>Killed</th>\n",
       "      <th>Wounded</th>\n",
       "      <th>Nationality</th>\n",
       "      <th>Weapon_type</th>\n",
       "      <th>Target</th>\n",
       "      <th>Summary</th>\n",
       "      <th>Group</th>\n",
       "      <th>Target_type</th>\n",
       "      <th>Motive</th>\n",
       "    </tr>\n",
       "  </thead>\n",
       "  <tbody>\n",
       "    <tr>\n",
       "      <td>0</td>\n",
       "      <td>1970</td>\n",
       "      <td>7</td>\n",
       "      <td>2</td>\n",
       "      <td>Dominican Republic</td>\n",
       "      <td>NaN</td>\n",
       "      <td>Central America &amp; Caribbean</td>\n",
       "      <td>Santo Domingo</td>\n",
       "      <td>18.456792</td>\n",
       "      <td>-69.951164</td>\n",
       "      <td>Assassination</td>\n",
       "      <td>1.0</td>\n",
       "      <td>0.0</td>\n",
       "      <td>Dominican Republic</td>\n",
       "      <td>Unknown</td>\n",
       "      <td>Julio Guzman</td>\n",
       "      <td>NaN</td>\n",
       "      <td>MANO-D</td>\n",
       "      <td>Private Citizens &amp; Property</td>\n",
       "      <td>NaN</td>\n",
       "    </tr>\n",
       "    <tr>\n",
       "      <td>1</td>\n",
       "      <td>1970</td>\n",
       "      <td>0</td>\n",
       "      <td>0</td>\n",
       "      <td>Mexico</td>\n",
       "      <td>Federal</td>\n",
       "      <td>North America</td>\n",
       "      <td>Mexico city</td>\n",
       "      <td>19.371887</td>\n",
       "      <td>-99.086624</td>\n",
       "      <td>Hostage Taking (Kidnapping)</td>\n",
       "      <td>0.0</td>\n",
       "      <td>0.0</td>\n",
       "      <td>Belgium</td>\n",
       "      <td>Unknown</td>\n",
       "      <td>Nadine Chaval, daughter</td>\n",
       "      <td>NaN</td>\n",
       "      <td>23rd of September Communist League</td>\n",
       "      <td>Government (Diplomatic)</td>\n",
       "      <td>NaN</td>\n",
       "    </tr>\n",
       "    <tr>\n",
       "      <td>2</td>\n",
       "      <td>1970</td>\n",
       "      <td>1</td>\n",
       "      <td>0</td>\n",
       "      <td>Philippines</td>\n",
       "      <td>Tarlac</td>\n",
       "      <td>Southeast Asia</td>\n",
       "      <td>Unknown</td>\n",
       "      <td>15.478598</td>\n",
       "      <td>120.599741</td>\n",
       "      <td>Assassination</td>\n",
       "      <td>1.0</td>\n",
       "      <td>0.0</td>\n",
       "      <td>United States</td>\n",
       "      <td>Unknown</td>\n",
       "      <td>Employee</td>\n",
       "      <td>NaN</td>\n",
       "      <td>Unknown</td>\n",
       "      <td>Journalists &amp; Media</td>\n",
       "      <td>NaN</td>\n",
       "    </tr>\n",
       "    <tr>\n",
       "      <td>3</td>\n",
       "      <td>1970</td>\n",
       "      <td>1</td>\n",
       "      <td>0</td>\n",
       "      <td>Greece</td>\n",
       "      <td>Attica</td>\n",
       "      <td>Western Europe</td>\n",
       "      <td>Athens</td>\n",
       "      <td>37.997490</td>\n",
       "      <td>23.762728</td>\n",
       "      <td>Bombing/Explosion</td>\n",
       "      <td>NaN</td>\n",
       "      <td>NaN</td>\n",
       "      <td>United States</td>\n",
       "      <td>Explosives</td>\n",
       "      <td>U.S. Embassy</td>\n",
       "      <td>NaN</td>\n",
       "      <td>Unknown</td>\n",
       "      <td>Government (Diplomatic)</td>\n",
       "      <td>NaN</td>\n",
       "    </tr>\n",
       "    <tr>\n",
       "      <td>4</td>\n",
       "      <td>1970</td>\n",
       "      <td>1</td>\n",
       "      <td>0</td>\n",
       "      <td>Japan</td>\n",
       "      <td>Fukouka</td>\n",
       "      <td>East Asia</td>\n",
       "      <td>Fukouka</td>\n",
       "      <td>33.580412</td>\n",
       "      <td>130.396361</td>\n",
       "      <td>Facility/Infrastructure Attack</td>\n",
       "      <td>NaN</td>\n",
       "      <td>NaN</td>\n",
       "      <td>United States</td>\n",
       "      <td>Incendiary</td>\n",
       "      <td>U.S. Consulate</td>\n",
       "      <td>NaN</td>\n",
       "      <td>Unknown</td>\n",
       "      <td>Government (Diplomatic)</td>\n",
       "      <td>NaN</td>\n",
       "    </tr>\n",
       "    <tr>\n",
       "      <td>5</td>\n",
       "      <td>1970</td>\n",
       "      <td>1</td>\n",
       "      <td>1</td>\n",
       "      <td>United States</td>\n",
       "      <td>Illinois</td>\n",
       "      <td>North America</td>\n",
       "      <td>Cairo</td>\n",
       "      <td>37.005105</td>\n",
       "      <td>-89.176269</td>\n",
       "      <td>Armed Assault</td>\n",
       "      <td>0.0</td>\n",
       "      <td>0.0</td>\n",
       "      <td>United States</td>\n",
       "      <td>Firearms</td>\n",
       "      <td>Cairo Police Headquarters</td>\n",
       "      <td>1/1/1970: Unknown African American assailants ...</td>\n",
       "      <td>Black Nationalists</td>\n",
       "      <td>Police</td>\n",
       "      <td>To protest the Cairo Illinois Police Deparment</td>\n",
       "    </tr>\n",
       "  </tbody>\n",
       "</table>\n",
       "</div>"
      ],
      "text/plain": [
       "   Year  Month  Day             Country     state                       Region           city   latitude   longitude                      AttackType  Killed  Wounded         Nationality Weapon_type                     Target                                            Summary                               Group                  Target_type                                          Motive\n",
       "0  1970      7    2  Dominican Republic       NaN  Central America & Caribbean  Santo Domingo  18.456792  -69.951164                   Assassination     1.0      0.0  Dominican Republic     Unknown               Julio Guzman                                                NaN                              MANO-D  Private Citizens & Property                                             NaN\n",
       "1  1970      0    0              Mexico   Federal                North America    Mexico city  19.371887  -99.086624     Hostage Taking (Kidnapping)     0.0      0.0             Belgium     Unknown    Nadine Chaval, daughter                                                NaN  23rd of September Communist League      Government (Diplomatic)                                             NaN\n",
       "2  1970      1    0         Philippines    Tarlac               Southeast Asia        Unknown  15.478598  120.599741                   Assassination     1.0      0.0       United States     Unknown                   Employee                                                NaN                             Unknown          Journalists & Media                                             NaN\n",
       "3  1970      1    0              Greece    Attica               Western Europe         Athens  37.997490   23.762728               Bombing/Explosion     NaN      NaN       United States  Explosives               U.S. Embassy                                                NaN                             Unknown      Government (Diplomatic)                                             NaN\n",
       "4  1970      1    0               Japan   Fukouka                    East Asia        Fukouka  33.580412  130.396361  Facility/Infrastructure Attack     NaN      NaN       United States  Incendiary             U.S. Consulate                                                NaN                             Unknown      Government (Diplomatic)                                             NaN\n",
       "5  1970      1    1       United States  Illinois                North America          Cairo  37.005105  -89.176269                   Armed Assault     0.0      0.0       United States    Firearms  Cairo Police Headquarters  1/1/1970: Unknown African American assailants ...                  Black Nationalists                       Police  To protest the Cairo Illinois Police Deparment"
      ]
     },
     "execution_count": 12,
     "metadata": {},
     "output_type": "execute_result"
    }
   ],
   "source": [
    "data.head(6)"
   ]
  },
  {
   "cell_type": "code",
   "execution_count": 13,
   "metadata": {},
   "outputs": [
    {
     "data": {
      "text/plain": [
       "Year                0\n",
       "Month               0\n",
       "Day                 0\n",
       "Country             0\n",
       "state             421\n",
       "Region              0\n",
       "city              434\n",
       "latitude         4556\n",
       "longitude        4557\n",
       "AttackType          0\n",
       "Killed          10313\n",
       "Wounded         16311\n",
       "Nationality      1559\n",
       "Weapon_type         0\n",
       "Target            636\n",
       "Summary         66129\n",
       "Group               0\n",
       "Target_type         0\n",
       "Motive         131130\n",
       "dtype: int64"
      ]
     },
     "execution_count": 13,
     "metadata": {},
     "output_type": "execute_result"
    }
   ],
   "source": [
    "data.isnull().sum()"
   ]
  },
  {
   "cell_type": "code",
   "execution_count": 14,
   "metadata": {
    "scrolled": true
   },
   "outputs": [
    {
     "name": "stdout",
     "output_type": "stream",
     "text": [
      "<class 'pandas.core.frame.DataFrame'>\n",
      "RangeIndex: 181691 entries, 0 to 181690\n",
      "Data columns (total 19 columns):\n",
      "Year           181691 non-null int64\n",
      "Month          181691 non-null int64\n",
      "Day            181691 non-null int64\n",
      "Country        181691 non-null object\n",
      "state          181270 non-null object\n",
      "Region         181691 non-null object\n",
      "city           181257 non-null object\n",
      "latitude       177135 non-null float64\n",
      "longitude      177134 non-null float64\n",
      "AttackType     181691 non-null object\n",
      "Killed         171378 non-null float64\n",
      "Wounded        165380 non-null float64\n",
      "Nationality    180132 non-null object\n",
      "Weapon_type    181691 non-null object\n",
      "Target         181055 non-null object\n",
      "Summary        115562 non-null object\n",
      "Group          181691 non-null object\n",
      "Target_type    181691 non-null object\n",
      "Motive         50561 non-null object\n",
      "dtypes: float64(4), int64(3), object(12)\n",
      "memory usage: 26.3+ MB\n"
     ]
    }
   ],
   "source": [
    "data.info()"
   ]
  },
  {
   "cell_type": "markdown",
   "metadata": {},
   "source": [
    "#### Finding out the Counties majorly affected by the terrorist activities \n",
    "In Iraq, there are more than 24000 attackes have been registered which made it most affected country followed by Pakistan (14000+) and Afganistan (12500+)"
   ]
  },
  {
   "cell_type": "code",
   "execution_count": 15,
   "metadata": {
    "scrolled": false
   },
   "outputs": [
    {
     "data": {
      "application/vnd.plotly.v1+json": {
       "config": {
        "linkText": "Export to plot.ly",
        "plotlyServerURL": "https://plot.ly",
        "showLink": true
       },
       "data": [
        {
         "marker": {
          "color": "rgba(24, 40, 68, 0.6)",
          "line": {
           "color": "rgba(24, 40, 68, 1.0)",
           "width": 1
          }
         },
         "name": "Country",
         "orientation": "h",
         "text": "",
         "type": "bar",
         "uid": "cac25451-e0c2-4f43-b329-8c71b80c2bf5",
         "x": [
          4292,
          5235,
          5320,
          6096,
          6908,
          8306,
          11960,
          12731,
          14368,
          24636
         ],
         "y": [
          "Turkey",
          "United Kingdom",
          "El Salvador",
          "Peru",
          "Philippines",
          "Colombia",
          "India",
          "Afghanistan",
          "Pakistan",
          "Iraq"
         ]
        }
       ],
       "layout": {
        "height": 500,
        "paper_bgcolor": "rgba(0,0,0,0)",
        "plot_bgcolor": "rgba(0,0,0,0)",
        "title": {
         "text": "Top 10 countries faced terrorist attacks"
        },
        "width": 800
       }
      },
      "text/html": [
       "<div>\n",
       "        \n",
       "        \n",
       "            <div id=\"9b85260e-abb9-4427-810e-fb205bee01de\" class=\"plotly-graph-div\" style=\"height:500px; width:800px;\"></div>\n",
       "            <script type=\"text/javascript\">\n",
       "                require([\"plotly\"], function(Plotly) {\n",
       "                    window.PLOTLYENV=window.PLOTLYENV || {};\n",
       "                    window.PLOTLYENV.BASE_URL='https://plot.ly';\n",
       "                    \n",
       "                if (document.getElementById(\"9b85260e-abb9-4427-810e-fb205bee01de\")) {\n",
       "                    Plotly.newPlot(\n",
       "                        '9b85260e-abb9-4427-810e-fb205bee01de',\n",
       "                        [{\"marker\": {\"color\": \"rgba(24, 40, 68, 0.6)\", \"line\": {\"color\": \"rgba(24, 40, 68, 1.0)\", \"width\": 1}}, \"name\": \"Country\", \"orientation\": \"h\", \"text\": \"\", \"type\": \"bar\", \"uid\": \"cac25451-e0c2-4f43-b329-8c71b80c2bf5\", \"x\": [4292, 5235, 5320, 6096, 6908, 8306, 11960, 12731, 14368, 24636], \"y\": [\"Turkey\", \"United Kingdom\", \"El Salvador\", \"Peru\", \"Philippines\", \"Colombia\", \"India\", \"Afghanistan\", \"Pakistan\", \"Iraq\"]}],\n",
       "                        {\"height\": 500, \"paper_bgcolor\": \"rgba(0,0,0,0)\", \"plot_bgcolor\": \"rgba(0,0,0,0)\", \"title\": {\"text\": \"Top 10 countries faced terrorist attacks\"}, \"width\": 800},\n",
       "                        {\"showLink\": true, \"linkText\": \"Export to plot.ly\", \"plotlyServerURL\": \"https://plot.ly\", \"responsive\": true}\n",
       "                    ).then(function(){\n",
       "                            \n",
       "var gd = document.getElementById('9b85260e-abb9-4427-810e-fb205bee01de');\n",
       "var x = new MutationObserver(function (mutations, observer) {{\n",
       "        var display = window.getComputedStyle(gd).display;\n",
       "        if (!display || display === 'none') {{\n",
       "            console.log([gd, 'removed!']);\n",
       "            Plotly.purge(gd);\n",
       "            observer.disconnect();\n",
       "        }}\n",
       "}});\n",
       "\n",
       "// Listen for the removal of the full notebook cells\n",
       "var notebookContainer = gd.closest('#notebook-container');\n",
       "if (notebookContainer) {{\n",
       "    x.observe(notebookContainer, {childList: true});\n",
       "}}\n",
       "\n",
       "// Listen for the clearing of the current output cell\n",
       "var outputEl = gd.closest('.output');\n",
       "if (outputEl) {{\n",
       "    x.observe(outputEl, {childList: true});\n",
       "}}\n",
       "\n",
       "                        })\n",
       "                };\n",
       "                });\n",
       "            </script>\n",
       "        </div>"
      ]
     },
     "metadata": {},
     "output_type": "display_data"
    }
   ],
   "source": [
    "\n",
    "data['Country'].value_counts()[:10][::-1].iplot(kind=\"barh\",bargap=.5, title=\"\", \n",
    "                                                colors=\"#182844\", layout=Layout(paper_bgcolor='rgba(0,0,0,0)',\n",
    "                                                                                plot_bgcolor='rgba(0,0,0,0)',\n",
    "                                                                                width=800, height=500, \n",
    "                                                                                title='Top 10 countries faced terrorist attacks'))"
   ]
  },
  {
   "cell_type": "markdown",
   "metadata": {},
   "source": [
    "#### Regionwise distribution\n",
    "South Asia is the most effected region by terrorist activities followed by South America"
   ]
  },
  {
   "cell_type": "code",
   "execution_count": 33,
   "metadata": {},
   "outputs": [
    {
     "data": {
      "application/vnd.plotly.v1+json": {
       "config": {
        "linkText": "Export to plot.ly",
        "plotlyServerURL": "https://plot.ly",
        "showLink": true
       },
       "data": [
        {
         "marker": {
          "color": "rgba(186, 85, 211, 0.6)",
          "line": {
           "color": "rgba(186, 85, 211, 1.0)",
           "width": 1
          }
         },
         "name": "Region",
         "orientation": "h",
         "text": "",
         "type": "bar",
         "uid": "6f3a63ed-5e32-46c3-90b6-f4952791dd54",
         "x": [
          802,
          3456,
          5144,
          10344,
          12485,
          16639,
          17550,
          18978,
          44974
         ],
         "y": [
          "East Asia",
          "North America",
          "Eastern Europe",
          "Central America & Caribbean",
          "Southeast Asia",
          "Western Europe",
          "Sub-Saharan Africa",
          "South America",
          "South Asia"
         ]
        }
       ],
       "layout": {
        "height": 500,
        "margin": {
         "b": 50,
         "l": 200,
         "r": 50,
         "t": 80
        },
        "paper_bgcolor": "rgba(0,0,0,0)",
        "plot_bgcolor": "rgba(0,0,0,0)",
        "title": {
         "text": "Top 10 Region faced terrorist attacks"
        },
        "width": 800
       }
      },
      "text/html": [
       "<div>\n",
       "        \n",
       "        \n",
       "            <div id=\"6f37cfd5-570b-4566-b735-c76f9e40af05\" class=\"plotly-graph-div\" style=\"height:500px; width:800px;\"></div>\n",
       "            <script type=\"text/javascript\">\n",
       "                require([\"plotly\"], function(Plotly) {\n",
       "                    window.PLOTLYENV=window.PLOTLYENV || {};\n",
       "                    window.PLOTLYENV.BASE_URL='https://plot.ly';\n",
       "                    \n",
       "                if (document.getElementById(\"6f37cfd5-570b-4566-b735-c76f9e40af05\")) {\n",
       "                    Plotly.newPlot(\n",
       "                        '6f37cfd5-570b-4566-b735-c76f9e40af05',\n",
       "                        [{\"marker\": {\"color\": \"rgba(186, 85, 211, 0.6)\", \"line\": {\"color\": \"rgba(186, 85, 211, 1.0)\", \"width\": 1}}, \"name\": \"Region\", \"orientation\": \"h\", \"text\": \"\", \"type\": \"bar\", \"uid\": \"6f3a63ed-5e32-46c3-90b6-f4952791dd54\", \"x\": [802, 3456, 5144, 10344, 12485, 16639, 17550, 18978, 44974], \"y\": [\"East Asia\", \"North America\", \"Eastern Europe\", \"Central America & Caribbean\", \"Southeast Asia\", \"Western Europe\", \"Sub-Saharan Africa\", \"South America\", \"South Asia\"]}],\n",
       "                        {\"height\": 500, \"margin\": {\"b\": 50, \"l\": 200, \"r\": 50, \"t\": 80}, \"paper_bgcolor\": \"rgba(0,0,0,0)\", \"plot_bgcolor\": \"rgba(0,0,0,0)\", \"title\": {\"text\": \"Top 10 Region faced terrorist attacks\"}, \"width\": 800},\n",
       "                        {\"showLink\": true, \"linkText\": \"Export to plot.ly\", \"plotlyServerURL\": \"https://plot.ly\", \"responsive\": true}\n",
       "                    ).then(function(){\n",
       "                            \n",
       "var gd = document.getElementById('6f37cfd5-570b-4566-b735-c76f9e40af05');\n",
       "var x = new MutationObserver(function (mutations, observer) {{\n",
       "        var display = window.getComputedStyle(gd).display;\n",
       "        if (!display || display === 'none') {{\n",
       "            console.log([gd, 'removed!']);\n",
       "            Plotly.purge(gd);\n",
       "            observer.disconnect();\n",
       "        }}\n",
       "}});\n",
       "\n",
       "// Listen for the removal of the full notebook cells\n",
       "var notebookContainer = gd.closest('#notebook-container');\n",
       "if (notebookContainer) {{\n",
       "    x.observe(notebookContainer, {childList: true});\n",
       "}}\n",
       "\n",
       "// Listen for the clearing of the current output cell\n",
       "var outputEl = gd.closest('.output');\n",
       "if (outputEl) {{\n",
       "    x.observe(outputEl, {childList: true});\n",
       "}}\n",
       "\n",
       "                        })\n",
       "                };\n",
       "                });\n",
       "            </script>\n",
       "        </div>"
      ]
     },
     "metadata": {},
     "output_type": "display_data"
    }
   ],
   "source": [
    "data['Region'].value_counts()[1:10][::-1].iplot(kind=\"barh\",bargap=.5, title=\"Top 10 cities faced terrorist attacks\", \n",
    "                                                colors=\"mediumorchid\", layout=Layout(paper_bgcolor='rgba(0,0,0,0)',\n",
    "                                                                                plot_bgcolor='rgba(0,0,0,0)',\n",
    "                                                                                width=800, height=500, \n",
    "                                                                                title='Top 10 Region faced terrorist attacks',\n",
    "                                                                                margin=dict(l=200, r=50, t=80, b=50)))"
   ]
  },
  {
   "cell_type": "markdown",
   "metadata": {},
   "source": [
    "#### Cities in which majorly attackes done\n",
    "Baghdad is the most affatected one followed by Karachi. Baghdad suffered around 2.5 times more attacks compared to Karachi which is just next to it in the list"
   ]
  },
  {
   "cell_type": "code",
   "execution_count": 16,
   "metadata": {
    "scrolled": false
   },
   "outputs": [
    {
     "data": {
      "application/vnd.plotly.v1+json": {
       "config": {
        "linkText": "Export to plot.ly",
        "plotlyServerURL": "https://plot.ly",
        "showLink": true
       },
       "data": [
        {
         "marker": {
          "color": "rgba(23, 190, 207, 0.6)",
          "line": {
           "color": "rgba(23, 190, 207, 1.0)",
           "width": 1
          }
         },
         "name": "city",
         "orientation": "h",
         "text": "",
         "type": "bar",
         "uid": "3c3a9f6a-7ed0-4f22-b1d8-4cfda8d1e22f",
         "x": [
          1048,
          1558,
          1581,
          1621,
          2171,
          2265,
          2359,
          2652,
          7589
         ],
         "y": [
          "Istanbul",
          "San Salvador",
          "Mogadishu",
          "Santiago",
          "Belfast",
          "Mosul",
          "Lima",
          "Karachi",
          "Baghdad"
         ]
        }
       ],
       "layout": {
        "height": 500,
        "paper_bgcolor": "rgba(0,0,0,0)",
        "plot_bgcolor": "rgba(0,0,0,0)",
        "title": {
         "text": "Top 10 cities faced terrorist attacks"
        },
        "width": 800
       }
      },
      "text/html": [
       "<div>\n",
       "        \n",
       "        \n",
       "            <div id=\"a7b3de19-46f9-45ca-a436-e73976e781d6\" class=\"plotly-graph-div\" style=\"height:500px; width:800px;\"></div>\n",
       "            <script type=\"text/javascript\">\n",
       "                require([\"plotly\"], function(Plotly) {\n",
       "                    window.PLOTLYENV=window.PLOTLYENV || {};\n",
       "                    window.PLOTLYENV.BASE_URL='https://plot.ly';\n",
       "                    \n",
       "                if (document.getElementById(\"a7b3de19-46f9-45ca-a436-e73976e781d6\")) {\n",
       "                    Plotly.newPlot(\n",
       "                        'a7b3de19-46f9-45ca-a436-e73976e781d6',\n",
       "                        [{\"marker\": {\"color\": \"rgba(23, 190, 207, 0.6)\", \"line\": {\"color\": \"rgba(23, 190, 207, 1.0)\", \"width\": 1}}, \"name\": \"city\", \"orientation\": \"h\", \"text\": \"\", \"type\": \"bar\", \"uid\": \"3c3a9f6a-7ed0-4f22-b1d8-4cfda8d1e22f\", \"x\": [1048, 1558, 1581, 1621, 2171, 2265, 2359, 2652, 7589], \"y\": [\"Istanbul\", \"San Salvador\", \"Mogadishu\", \"Santiago\", \"Belfast\", \"Mosul\", \"Lima\", \"Karachi\", \"Baghdad\"]}],\n",
       "                        {\"height\": 500, \"paper_bgcolor\": \"rgba(0,0,0,0)\", \"plot_bgcolor\": \"rgba(0,0,0,0)\", \"title\": {\"text\": \"Top 10 cities faced terrorist attacks\"}, \"width\": 800},\n",
       "                        {\"showLink\": true, \"linkText\": \"Export to plot.ly\", \"plotlyServerURL\": \"https://plot.ly\", \"responsive\": true}\n",
       "                    ).then(function(){\n",
       "                            \n",
       "var gd = document.getElementById('a7b3de19-46f9-45ca-a436-e73976e781d6');\n",
       "var x = new MutationObserver(function (mutations, observer) {{\n",
       "        var display = window.getComputedStyle(gd).display;\n",
       "        if (!display || display === 'none') {{\n",
       "            console.log([gd, 'removed!']);\n",
       "            Plotly.purge(gd);\n",
       "            observer.disconnect();\n",
       "        }}\n",
       "}});\n",
       "\n",
       "// Listen for the removal of the full notebook cells\n",
       "var notebookContainer = gd.closest('#notebook-container');\n",
       "if (notebookContainer) {{\n",
       "    x.observe(notebookContainer, {childList: true});\n",
       "}}\n",
       "\n",
       "// Listen for the clearing of the current output cell\n",
       "var outputEl = gd.closest('.output');\n",
       "if (outputEl) {{\n",
       "    x.observe(outputEl, {childList: true});\n",
       "}}\n",
       "\n",
       "                        })\n",
       "                };\n",
       "                });\n",
       "            </script>\n",
       "        </div>"
      ]
     },
     "metadata": {},
     "output_type": "display_data"
    }
   ],
   "source": [
    "data['city'].value_counts()[1:10][::-1].iplot(kind=\"barh\",bargap=.5, title=\"Top 10 cities faced terrorist attacks\", \n",
    "                                              colors=\"#17becf\", layout=Layout(paper_bgcolor='rgba(0,0,0,0)',\n",
    "                                                                                plot_bgcolor='rgba(0,0,0,0)',\n",
    "                                                                                width=800, height=500, \n",
    "                                                                                title='Top 10 cities faced terrorist attacks'))"
   ]
  },
  {
   "cell_type": "markdown",
   "metadata": {},
   "source": [
    "#### Time Analysis\n",
    "Year: 2014 was the year in which most of the attachs happened as compared to the last 15 years. and it graduaually decreases afterwards"
   ]
  },
  {
   "cell_type": "markdown",
   "metadata": {},
   "source": [
    "Month: May months has relatively high attack frequency "
   ]
  },
  {
   "cell_type": "markdown",
   "metadata": {},
   "source": [
    "Day: Majority of the events happend in the middle of the month and decreased dransically at the end of the month"
   ]
  },
  {
   "cell_type": "code",
   "execution_count": 34,
   "metadata": {},
   "outputs": [
    {
     "data": {
      "application/vnd.plotly.v1+json": {
       "config": {
        "linkText": "Export to plot.ly",
        "plotlyServerURL": "https://plot.ly",
        "showLink": true
       },
       "data": [
        {
         "line": {
          "color": "rgba(0, 128, 128, 1.0)",
          "dash": "solid",
          "shape": "linear",
          "width": 1.3
         },
         "mode": "lines",
         "name": "None",
         "text": "",
         "type": "scatter",
         "uid": "d191211c-d98a-4475-b5a4-50c70719e462",
         "x": [
          2003,
          2004,
          2005,
          2006,
          2007,
          2008,
          2009,
          2010,
          2011,
          2012,
          2013,
          2014,
          2015,
          2016,
          2017
         ],
         "y": [
          1278,
          1166,
          2017,
          2758,
          3242,
          4805,
          4721,
          4826,
          5076,
          8522,
          12036,
          16903,
          14965,
          13587,
          10900
         ]
        }
       ],
       "layout": {
        "height": 500,
        "paper_bgcolor": "rgba(0,0,0,0)",
        "plot_bgcolor": "rgba(0,0,0,0)",
        "title": {
         "text": "Year wise terrorist activity trends"
        },
        "width": 500
       }
      },
      "text/html": [
       "<div>\n",
       "        \n",
       "        \n",
       "            <div id=\"b36f6361-6506-4b07-9dfd-fe1bf0852c25\" class=\"plotly-graph-div\" style=\"height:500px; width:500px;\"></div>\n",
       "            <script type=\"text/javascript\">\n",
       "                require([\"plotly\"], function(Plotly) {\n",
       "                    window.PLOTLYENV=window.PLOTLYENV || {};\n",
       "                    window.PLOTLYENV.BASE_URL='https://plot.ly';\n",
       "                    \n",
       "                if (document.getElementById(\"b36f6361-6506-4b07-9dfd-fe1bf0852c25\")) {\n",
       "                    Plotly.newPlot(\n",
       "                        'b36f6361-6506-4b07-9dfd-fe1bf0852c25',\n",
       "                        [{\"line\": {\"color\": \"rgba(0, 128, 128, 1.0)\", \"dash\": \"solid\", \"shape\": \"linear\", \"width\": 1.3}, \"mode\": \"lines\", \"name\": \"None\", \"text\": \"\", \"type\": \"scatter\", \"uid\": \"d191211c-d98a-4475-b5a4-50c70719e462\", \"x\": [2003, 2004, 2005, 2006, 2007, 2008, 2009, 2010, 2011, 2012, 2013, 2014, 2015, 2016, 2017], \"y\": [1278, 1166, 2017, 2758, 3242, 4805, 4721, 4826, 5076, 8522, 12036, 16903, 14965, 13587, 10900]}],\n",
       "                        {\"height\": 500, \"paper_bgcolor\": \"rgba(0,0,0,0)\", \"plot_bgcolor\": \"rgba(0,0,0,0)\", \"title\": {\"text\": \"Year wise terrorist activity trends\"}, \"width\": 500},\n",
       "                        {\"showLink\": true, \"linkText\": \"Export to plot.ly\", \"plotlyServerURL\": \"https://plot.ly\", \"responsive\": true}\n",
       "                    ).then(function(){\n",
       "                            \n",
       "var gd = document.getElementById('b36f6361-6506-4b07-9dfd-fe1bf0852c25');\n",
       "var x = new MutationObserver(function (mutations, observer) {{\n",
       "        var display = window.getComputedStyle(gd).display;\n",
       "        if (!display || display === 'none') {{\n",
       "            console.log([gd, 'removed!']);\n",
       "            Plotly.purge(gd);\n",
       "            observer.disconnect();\n",
       "        }}\n",
       "}});\n",
       "\n",
       "// Listen for the removal of the full notebook cells\n",
       "var notebookContainer = gd.closest('#notebook-container');\n",
       "if (notebookContainer) {{\n",
       "    x.observe(notebookContainer, {childList: true});\n",
       "}}\n",
       "\n",
       "// Listen for the clearing of the current output cell\n",
       "var outputEl = gd.closest('.output');\n",
       "if (outputEl) {{\n",
       "    x.observe(outputEl, {childList: true});\n",
       "}}\n",
       "\n",
       "                        })\n",
       "                };\n",
       "                });\n",
       "            </script>\n",
       "        </div>"
      ]
     },
     "metadata": {},
     "output_type": "display_data"
    },
    {
     "data": {
      "application/vnd.plotly.v1+json": {
       "config": {
        "linkText": "Export to plot.ly",
        "plotlyServerURL": "https://plot.ly",
        "showLink": true
       },
       "data": [
        {
         "line": {
          "color": "rgba(0, 128, 128, 1.0)",
          "dash": "solid",
          "shape": "linear",
          "width": 1.3
         },
         "mode": "lines",
         "name": "None",
         "text": "",
         "type": "scatter",
         "uid": "de0ec216-510f-4320-9e97-5fd9d91ece95",
         "x": [
          1,
          2,
          3,
          4,
          5,
          6,
          7,
          8,
          9,
          10,
          11,
          12
         ],
         "y": [
          14936,
          13879,
          15257,
          15152,
          16875,
          15359,
          16268,
          15800,
          14180,
          15563,
          14906,
          13496
         ]
        }
       ],
       "layout": {
        "height": 500,
        "paper_bgcolor": "rgba(0,0,0,0)",
        "plot_bgcolor": "rgba(0,0,0,0)",
        "title": {
         "text": "Month wise terrorist attacks trends"
        },
        "width": 500
       }
      },
      "text/html": [
       "<div>\n",
       "        \n",
       "        \n",
       "            <div id=\"0870e3f9-a8b2-458c-83e5-788f782cde66\" class=\"plotly-graph-div\" style=\"height:500px; width:500px;\"></div>\n",
       "            <script type=\"text/javascript\">\n",
       "                require([\"plotly\"], function(Plotly) {\n",
       "                    window.PLOTLYENV=window.PLOTLYENV || {};\n",
       "                    window.PLOTLYENV.BASE_URL='https://plot.ly';\n",
       "                    \n",
       "                if (document.getElementById(\"0870e3f9-a8b2-458c-83e5-788f782cde66\")) {\n",
       "                    Plotly.newPlot(\n",
       "                        '0870e3f9-a8b2-458c-83e5-788f782cde66',\n",
       "                        [{\"line\": {\"color\": \"rgba(0, 128, 128, 1.0)\", \"dash\": \"solid\", \"shape\": \"linear\", \"width\": 1.3}, \"mode\": \"lines\", \"name\": \"None\", \"text\": \"\", \"type\": \"scatter\", \"uid\": \"de0ec216-510f-4320-9e97-5fd9d91ece95\", \"x\": [1, 2, 3, 4, 5, 6, 7, 8, 9, 10, 11, 12], \"y\": [14936, 13879, 15257, 15152, 16875, 15359, 16268, 15800, 14180, 15563, 14906, 13496]}],\n",
       "                        {\"height\": 500, \"paper_bgcolor\": \"rgba(0,0,0,0)\", \"plot_bgcolor\": \"rgba(0,0,0,0)\", \"title\": {\"text\": \"Month wise terrorist attacks trends\"}, \"width\": 500},\n",
       "                        {\"showLink\": true, \"linkText\": \"Export to plot.ly\", \"plotlyServerURL\": \"https://plot.ly\", \"responsive\": true}\n",
       "                    ).then(function(){\n",
       "                            \n",
       "var gd = document.getElementById('0870e3f9-a8b2-458c-83e5-788f782cde66');\n",
       "var x = new MutationObserver(function (mutations, observer) {{\n",
       "        var display = window.getComputedStyle(gd).display;\n",
       "        if (!display || display === 'none') {{\n",
       "            console.log([gd, 'removed!']);\n",
       "            Plotly.purge(gd);\n",
       "            observer.disconnect();\n",
       "        }}\n",
       "}});\n",
       "\n",
       "// Listen for the removal of the full notebook cells\n",
       "var notebookContainer = gd.closest('#notebook-container');\n",
       "if (notebookContainer) {{\n",
       "    x.observe(notebookContainer, {childList: true});\n",
       "}}\n",
       "\n",
       "// Listen for the clearing of the current output cell\n",
       "var outputEl = gd.closest('.output');\n",
       "if (outputEl) {{\n",
       "    x.observe(outputEl, {childList: true});\n",
       "}}\n",
       "\n",
       "                        })\n",
       "                };\n",
       "                });\n",
       "            </script>\n",
       "        </div>"
      ]
     },
     "metadata": {},
     "output_type": "display_data"
    },
    {
     "data": {
      "application/vnd.plotly.v1+json": {
       "config": {
        "linkText": "Export to plot.ly",
        "plotlyServerURL": "https://plot.ly",
        "showLink": true
       },
       "data": [
        {
         "line": {
          "color": "rgba(0, 128, 128, 1.0)",
          "dash": "solid",
          "shape": "linear",
          "width": 1.3
         },
         "mode": "lines",
         "name": "None",
         "text": "",
         "type": "scatter",
         "uid": "03da40da-ad04-4878-8c71-15f128d81de6",
         "x": [
          1,
          2,
          3,
          4,
          5,
          6,
          7,
          8,
          9,
          10,
          11,
          12,
          13,
          14,
          15,
          16,
          17,
          18,
          19,
          20,
          21,
          22,
          23,
          24,
          25,
          26,
          27,
          28,
          29,
          30,
          31
         ],
         "y": [
          6344,
          5954,
          6011,
          6153,
          5844,
          5781,
          5997,
          5859,
          6057,
          6064,
          5936,
          6012,
          6043,
          6028,
          6500,
          6112,
          5852,
          5880,
          5973,
          5930,
          5827,
          5799,
          5782,
          5752,
          5875,
          5823,
          5937,
          6027,
          5507,
          5046,
          3095
         ]
        }
       ],
       "layout": {
        "height": 500,
        "paper_bgcolor": "rgba(0,0,0,0)",
        "plot_bgcolor": "rgba(0,0,0,0)",
        "title": {
         "text": "Day wise terrorist attacks trends"
        },
        "width": 500
       }
      },
      "text/html": [
       "<div>\n",
       "        \n",
       "        \n",
       "            <div id=\"c0c69183-6d28-4fcc-8f63-6370a848df35\" class=\"plotly-graph-div\" style=\"height:500px; width:500px;\"></div>\n",
       "            <script type=\"text/javascript\">\n",
       "                require([\"plotly\"], function(Plotly) {\n",
       "                    window.PLOTLYENV=window.PLOTLYENV || {};\n",
       "                    window.PLOTLYENV.BASE_URL='https://plot.ly';\n",
       "                    \n",
       "                if (document.getElementById(\"c0c69183-6d28-4fcc-8f63-6370a848df35\")) {\n",
       "                    Plotly.newPlot(\n",
       "                        'c0c69183-6d28-4fcc-8f63-6370a848df35',\n",
       "                        [{\"line\": {\"color\": \"rgba(0, 128, 128, 1.0)\", \"dash\": \"solid\", \"shape\": \"linear\", \"width\": 1.3}, \"mode\": \"lines\", \"name\": \"None\", \"text\": \"\", \"type\": \"scatter\", \"uid\": \"03da40da-ad04-4878-8c71-15f128d81de6\", \"x\": [1, 2, 3, 4, 5, 6, 7, 8, 9, 10, 11, 12, 13, 14, 15, 16, 17, 18, 19, 20, 21, 22, 23, 24, 25, 26, 27, 28, 29, 30, 31], \"y\": [6344, 5954, 6011, 6153, 5844, 5781, 5997, 5859, 6057, 6064, 5936, 6012, 6043, 6028, 6500, 6112, 5852, 5880, 5973, 5930, 5827, 5799, 5782, 5752, 5875, 5823, 5937, 6027, 5507, 5046, 3095]}],\n",
       "                        {\"height\": 500, \"paper_bgcolor\": \"rgba(0,0,0,0)\", \"plot_bgcolor\": \"rgba(0,0,0,0)\", \"title\": {\"text\": \"Day wise terrorist attacks trends\"}, \"width\": 500},\n",
       "                        {\"showLink\": true, \"linkText\": \"Export to plot.ly\", \"plotlyServerURL\": \"https://plot.ly\", \"responsive\": true}\n",
       "                    ).then(function(){\n",
       "                            \n",
       "var gd = document.getElementById('c0c69183-6d28-4fcc-8f63-6370a848df35');\n",
       "var x = new MutationObserver(function (mutations, observer) {{\n",
       "        var display = window.getComputedStyle(gd).display;\n",
       "        if (!display || display === 'none') {{\n",
       "            console.log([gd, 'removed!']);\n",
       "            Plotly.purge(gd);\n",
       "            observer.disconnect();\n",
       "        }}\n",
       "}});\n",
       "\n",
       "// Listen for the removal of the full notebook cells\n",
       "var notebookContainer = gd.closest('#notebook-container');\n",
       "if (notebookContainer) {{\n",
       "    x.observe(notebookContainer, {childList: true});\n",
       "}}\n",
       "\n",
       "// Listen for the clearing of the current output cell\n",
       "var outputEl = gd.closest('.output');\n",
       "if (outputEl) {{\n",
       "    x.observe(outputEl, {childList: true});\n",
       "}}\n",
       "\n",
       "                        })\n",
       "                };\n",
       "                });\n",
       "            </script>\n",
       "        </div>"
      ]
     },
     "metadata": {},
     "output_type": "display_data"
    }
   ],
   "source": [
    "data.groupby('Year').size()[-15:].iplot(kind=\"line\", title='Number of terrorist attacks in last 10 years', \n",
    "                                        colors=\"teal\", layout=Layout(paper_bgcolor='rgba(0,0,0,0)',\n",
    "                                                                                plot_bgcolor='rgba(0,0,0,0)',\n",
    "                                                                                width=500, height=500, \n",
    "                                                                                title='Year wise terrorist activity trends'))\n",
    "data.groupby('Month').size()[1:].iplot(kind=\"line\", \n",
    "                                        colors=\"teal\", layout=Layout(paper_bgcolor='rgba(0,0,0,0)',\n",
    "                                                                                plot_bgcolor='rgba(0,0,0,0)',\n",
    "                                                                                width=500, height=500, \n",
    "                                                                                title='Month wise terrorist attacks trends'))\n",
    "data.groupby('Day').size()[1:].iplot(kind=\"line\", \n",
    "                                        colors=\"teal\", layout=Layout(paper_bgcolor='rgba(0,0,0,0)',\n",
    "                                                                                plot_bgcolor='rgba(0,0,0,0)',\n",
    "                                                                                width=500, height=500, \n",
    "                                                                                title='Day wise terrorist attacks trends'))"
   ]
  },
  {
   "cell_type": "markdown",
   "metadata": {},
   "source": [
    "#### Attacks Type"
   ]
  },
  {
   "cell_type": "markdown",
   "metadata": {},
   "source": [
    "Majority of the attacks are done through arms followed by mass assasination "
   ]
  },
  {
   "cell_type": "code",
   "execution_count": 43,
   "metadata": {
    "scrolled": false
   },
   "outputs": [
    {
     "data": {
      "application/vnd.plotly.v1+json": {
       "config": {
        "linkText": "Export to plot.ly",
        "plotlyServerURL": "https://plot.ly",
        "showLink": true
       },
       "data": [
        {
         "marker": {
          "color": "rgba(0, 128, 128, 0.6)",
          "line": {
           "color": "rgba(0, 128, 128, 1.0)",
           "width": 1
          }
         },
         "name": "AttackType",
         "orientation": "h",
         "text": "",
         "type": "bar",
         "uid": "da309ec4-8b7f-4247-bf4c-cef501ac20fe",
         "x": [
          659,
          991,
          1015,
          7276,
          10356,
          11158,
          19312,
          42669
         ],
         "y": [
          "Hijacking",
          "Hostage Taking (Barricade Incident)",
          "Unarmed Assault",
          "Unknown",
          "Facility/Infrastructure Attack",
          "Hostage Taking (Kidnapping)",
          "Assassination",
          "Armed Assault"
         ]
        }
       ],
       "layout": {
        "height": 500,
        "margin": {
         "b": 50,
         "l": 300,
         "r": 50,
         "t": 80
        },
        "paper_bgcolor": "rgba(0,0,0,0)",
        "plot_bgcolor": "rgba(0,0,0,0)",
        "title": {
         "text": "Attack Type"
        },
        "width": 800
       }
      },
      "text/html": [
       "<div>\n",
       "        \n",
       "        \n",
       "            <div id=\"b6b9e213-1a3e-4b9c-93b9-9bb60e0e96f8\" class=\"plotly-graph-div\" style=\"height:500px; width:800px;\"></div>\n",
       "            <script type=\"text/javascript\">\n",
       "                require([\"plotly\"], function(Plotly) {\n",
       "                    window.PLOTLYENV=window.PLOTLYENV || {};\n",
       "                    window.PLOTLYENV.BASE_URL='https://plot.ly';\n",
       "                    \n",
       "                if (document.getElementById(\"b6b9e213-1a3e-4b9c-93b9-9bb60e0e96f8\")) {\n",
       "                    Plotly.newPlot(\n",
       "                        'b6b9e213-1a3e-4b9c-93b9-9bb60e0e96f8',\n",
       "                        [{\"marker\": {\"color\": \"rgba(0, 128, 128, 0.6)\", \"line\": {\"color\": \"rgba(0, 128, 128, 1.0)\", \"width\": 1}}, \"name\": \"AttackType\", \"orientation\": \"h\", \"text\": \"\", \"type\": \"bar\", \"uid\": \"da309ec4-8b7f-4247-bf4c-cef501ac20fe\", \"x\": [659, 991, 1015, 7276, 10356, 11158, 19312, 42669], \"y\": [\"Hijacking\", \"Hostage Taking (Barricade Incident)\", \"Unarmed Assault\", \"Unknown\", \"Facility/Infrastructure Attack\", \"Hostage Taking (Kidnapping)\", \"Assassination\", \"Armed Assault\"]}],\n",
       "                        {\"height\": 500, \"margin\": {\"b\": 50, \"l\": 300, \"r\": 50, \"t\": 80}, \"paper_bgcolor\": \"rgba(0,0,0,0)\", \"plot_bgcolor\": \"rgba(0,0,0,0)\", \"title\": {\"text\": \"Attack Type\"}, \"width\": 800},\n",
       "                        {\"showLink\": true, \"linkText\": \"Export to plot.ly\", \"plotlyServerURL\": \"https://plot.ly\", \"responsive\": true}\n",
       "                    ).then(function(){\n",
       "                            \n",
       "var gd = document.getElementById('b6b9e213-1a3e-4b9c-93b9-9bb60e0e96f8');\n",
       "var x = new MutationObserver(function (mutations, observer) {{\n",
       "        var display = window.getComputedStyle(gd).display;\n",
       "        if (!display || display === 'none') {{\n",
       "            console.log([gd, 'removed!']);\n",
       "            Plotly.purge(gd);\n",
       "            observer.disconnect();\n",
       "        }}\n",
       "}});\n",
       "\n",
       "// Listen for the removal of the full notebook cells\n",
       "var notebookContainer = gd.closest('#notebook-container');\n",
       "if (notebookContainer) {{\n",
       "    x.observe(notebookContainer, {childList: true});\n",
       "}}\n",
       "\n",
       "// Listen for the clearing of the current output cell\n",
       "var outputEl = gd.closest('.output');\n",
       "if (outputEl) {{\n",
       "    x.observe(outputEl, {childList: true});\n",
       "}}\n",
       "\n",
       "                        })\n",
       "                };\n",
       "                });\n",
       "            </script>\n",
       "        </div>"
      ]
     },
     "metadata": {},
     "output_type": "display_data"
    }
   ],
   "source": [
    "data['AttackType'].value_counts()[1:10][::-1].iplot(kind=\"barh\",bargap=.5, title=\"Top 10 attacktype faced terrorist attacks\", \n",
    "                                                colors=\"teal\", layout=Layout(paper_bgcolor='rgba(0,0,0,0)',\n",
    "                                                                                plot_bgcolor='rgba(0,0,0,0)',\n",
    "                                                                                width=800, height=500, \n",
    "                                                                                title='Attack Type',\n",
    "                                                                                margin=dict(l=300, r=50, t=80, b=50)))"
   ]
  },
  {
   "cell_type": "markdown",
   "metadata": {},
   "source": [
    "#### Finding out the Groups reponsible for majority of the attacks \n",
    "Taliban has taken reponsibility for majority of the terrorsit attacks followed by ISIL\n"
   ]
  },
  {
   "cell_type": "code",
   "execution_count": 46,
   "metadata": {
    "scrolled": false
   },
   "outputs": [
    {
     "data": {
      "application/vnd.plotly.v1+json": {
       "config": {
        "linkText": "Export to plot.ly",
        "plotlyServerURL": "https://plot.ly",
        "showLink": true
       },
       "data": [
        {
         "marker": {
          "color": "rgba(238, 223, 204, 0.6)",
          "line": {
           "color": "rgba(238, 223, 204, 1.0)",
           "width": 1
          }
         },
         "name": "Group",
         "orientation": "h",
         "text": "",
         "type": "bar",
         "uid": "1b408aa6-8e66-4f06-964f-41f48a81a933",
         "x": [
          2418,
          2487,
          2671,
          2772,
          3288,
          3351,
          4555,
          5613,
          7478
         ],
         "y": [
          "Boko Haram",
          "Revolutionary Armed Forces of Colombia (FARC)",
          "Irish Republican Army (IRA)",
          "New People's Army (NPA)",
          "Al-Shabaab",
          "Farabundo Marti National Liberation Front (FMLN)",
          "Shining Path (SL)",
          "Islamic State of Iraq and the Levant (ISIL)",
          "Taliban"
         ]
        }
       ],
       "layout": {
        "height": 500,
        "margin": {
         "b": 50,
         "l": 300,
         "r": 50,
         "t": 80
        },
        "paper_bgcolor": "rgba(0,0,0,0)",
        "plot_bgcolor": "rgba(0,0,0,0)",
        "title": {
         "text": "Top 10 terrorist Goups"
        },
        "width": 800
       }
      },
      "text/html": [
       "<div>\n",
       "        \n",
       "        \n",
       "            <div id=\"e08b0494-1d56-420d-a6fd-c2563b4cc874\" class=\"plotly-graph-div\" style=\"height:500px; width:800px;\"></div>\n",
       "            <script type=\"text/javascript\">\n",
       "                require([\"plotly\"], function(Plotly) {\n",
       "                    window.PLOTLYENV=window.PLOTLYENV || {};\n",
       "                    window.PLOTLYENV.BASE_URL='https://plot.ly';\n",
       "                    \n",
       "                if (document.getElementById(\"e08b0494-1d56-420d-a6fd-c2563b4cc874\")) {\n",
       "                    Plotly.newPlot(\n",
       "                        'e08b0494-1d56-420d-a6fd-c2563b4cc874',\n",
       "                        [{\"marker\": {\"color\": \"rgba(238, 223, 204, 0.6)\", \"line\": {\"color\": \"rgba(238, 223, 204, 1.0)\", \"width\": 1}}, \"name\": \"Group\", \"orientation\": \"h\", \"text\": \"\", \"type\": \"bar\", \"uid\": \"1b408aa6-8e66-4f06-964f-41f48a81a933\", \"x\": [2418, 2487, 2671, 2772, 3288, 3351, 4555, 5613, 7478], \"y\": [\"Boko Haram\", \"Revolutionary Armed Forces of Colombia (FARC)\", \"Irish Republican Army (IRA)\", \"New People's Army (NPA)\", \"Al-Shabaab\", \"Farabundo Marti National Liberation Front (FMLN)\", \"Shining Path (SL)\", \"Islamic State of Iraq and the Levant (ISIL)\", \"Taliban\"]}],\n",
       "                        {\"height\": 500, \"margin\": {\"b\": 50, \"l\": 300, \"r\": 50, \"t\": 80}, \"paper_bgcolor\": \"rgba(0,0,0,0)\", \"plot_bgcolor\": \"rgba(0,0,0,0)\", \"title\": {\"text\": \"Top 10 terrorist Goups\"}, \"width\": 800},\n",
       "                        {\"showLink\": true, \"linkText\": \"Export to plot.ly\", \"plotlyServerURL\": \"https://plot.ly\", \"responsive\": true}\n",
       "                    ).then(function(){\n",
       "                            \n",
       "var gd = document.getElementById('e08b0494-1d56-420d-a6fd-c2563b4cc874');\n",
       "var x = new MutationObserver(function (mutations, observer) {{\n",
       "        var display = window.getComputedStyle(gd).display;\n",
       "        if (!display || display === 'none') {{\n",
       "            console.log([gd, 'removed!']);\n",
       "            Plotly.purge(gd);\n",
       "            observer.disconnect();\n",
       "        }}\n",
       "}});\n",
       "\n",
       "// Listen for the removal of the full notebook cells\n",
       "var notebookContainer = gd.closest('#notebook-container');\n",
       "if (notebookContainer) {{\n",
       "    x.observe(notebookContainer, {childList: true});\n",
       "}}\n",
       "\n",
       "// Listen for the clearing of the current output cell\n",
       "var outputEl = gd.closest('.output');\n",
       "if (outputEl) {{\n",
       "    x.observe(outputEl, {childList: true});\n",
       "}}\n",
       "\n",
       "                        })\n",
       "                };\n",
       "                });\n",
       "            </script>\n",
       "        </div>"
      ]
     },
     "metadata": {},
     "output_type": "display_data"
    }
   ],
   "source": [
    "data['Group'].value_counts()[1:10][::-1].iplot(kind=\"barh\",bargap=.5, \n",
    "                                                colors=\"#EEDFCC\", layout=Layout(paper_bgcolor='rgba(0,0,0,0)',\n",
    "                                                                                plot_bgcolor='rgba(0,0,0,0)',\n",
    "                                                                                width=800, height=500, \n",
    "                                                                                title='Top 10 terrorist Goups',\n",
    "                                                                                margin=dict(l=300, r=50, t=80, b=50)))"
   ]
  },
  {
   "cell_type": "markdown",
   "metadata": {},
   "source": [
    "#### Target "
   ]
  },
  {
   "cell_type": "markdown",
   "metadata": {},
   "source": [
    "Civilians are the major targets of most of the terrorist activities"
   ]
  },
  {
   "cell_type": "code",
   "execution_count": 47,
   "metadata": {
    "scrolled": false
   },
   "outputs": [
    {
     "data": {
      "application/vnd.plotly.v1+json": {
       "config": {
        "linkText": "Export to plot.ly",
        "plotlyServerURL": "https://plot.ly",
        "showLink": true
       },
       "data": [
        {
         "marker": {
          "color": "rgba(255, 211, 155, 0.6)",
          "line": {
           "color": "rgba(255, 211, 155, 1.0)",
           "width": 1
          }
         },
         "name": "Target",
         "orientation": "h",
         "text": "",
         "type": "bar",
         "uid": "bb31ec1f-2b4e-487e-b47b-0c51f9434fad",
         "x": [
          1335,
          1533,
          1679,
          1787,
          2785,
          2905,
          2942,
          3157,
          5918,
          6461
         ],
         "y": [
          "Bus",
          "Military Unit",
          "Village",
          "Officers",
          "Vehicle",
          "Checkpoint",
          "Patrol",
          "Soldiers",
          "Unknown",
          "Civilians"
         ]
        }
       ],
       "layout": {
        "height": 500,
        "paper_bgcolor": "rgba(0,0,0,0)",
        "plot_bgcolor": "rgba(0,0,0,0)",
        "title": {
         "text": "Top Targets of terrorist attacks"
        },
        "width": 800
       }
      },
      "text/html": [
       "<div>\n",
       "        \n",
       "        \n",
       "            <div id=\"65d4822e-61fb-4cac-8ec8-1b7eaa9cc1f4\" class=\"plotly-graph-div\" style=\"height:500px; width:800px;\"></div>\n",
       "            <script type=\"text/javascript\">\n",
       "                require([\"plotly\"], function(Plotly) {\n",
       "                    window.PLOTLYENV=window.PLOTLYENV || {};\n",
       "                    window.PLOTLYENV.BASE_URL='https://plot.ly';\n",
       "                    \n",
       "                if (document.getElementById(\"65d4822e-61fb-4cac-8ec8-1b7eaa9cc1f4\")) {\n",
       "                    Plotly.newPlot(\n",
       "                        '65d4822e-61fb-4cac-8ec8-1b7eaa9cc1f4',\n",
       "                        [{\"marker\": {\"color\": \"rgba(255, 211, 155, 0.6)\", \"line\": {\"color\": \"rgba(255, 211, 155, 1.0)\", \"width\": 1}}, \"name\": \"Target\", \"orientation\": \"h\", \"text\": \"\", \"type\": \"bar\", \"uid\": \"bb31ec1f-2b4e-487e-b47b-0c51f9434fad\", \"x\": [1335, 1533, 1679, 1787, 2785, 2905, 2942, 3157, 5918, 6461], \"y\": [\"Bus\", \"Military Unit\", \"Village\", \"Officers\", \"Vehicle\", \"Checkpoint\", \"Patrol\", \"Soldiers\", \"Unknown\", \"Civilians\"]}],\n",
       "                        {\"height\": 500, \"paper_bgcolor\": \"rgba(0,0,0,0)\", \"plot_bgcolor\": \"rgba(0,0,0,0)\", \"title\": {\"text\": \"Top Targets of terrorist attacks\"}, \"width\": 800},\n",
       "                        {\"showLink\": true, \"linkText\": \"Export to plot.ly\", \"plotlyServerURL\": \"https://plot.ly\", \"responsive\": true}\n",
       "                    ).then(function(){\n",
       "                            \n",
       "var gd = document.getElementById('65d4822e-61fb-4cac-8ec8-1b7eaa9cc1f4');\n",
       "var x = new MutationObserver(function (mutations, observer) {{\n",
       "        var display = window.getComputedStyle(gd).display;\n",
       "        if (!display || display === 'none') {{\n",
       "            console.log([gd, 'removed!']);\n",
       "            Plotly.purge(gd);\n",
       "            observer.disconnect();\n",
       "        }}\n",
       "}});\n",
       "\n",
       "// Listen for the removal of the full notebook cells\n",
       "var notebookContainer = gd.closest('#notebook-container');\n",
       "if (notebookContainer) {{\n",
       "    x.observe(notebookContainer, {childList: true});\n",
       "}}\n",
       "\n",
       "// Listen for the clearing of the current output cell\n",
       "var outputEl = gd.closest('.output');\n",
       "if (outputEl) {{\n",
       "    x.observe(outputEl, {childList: true});\n",
       "}}\n",
       "\n",
       "                        })\n",
       "                };\n",
       "                });\n",
       "            </script>\n",
       "        </div>"
      ]
     },
     "metadata": {},
     "output_type": "display_data"
    }
   ],
   "source": [
    "data['Target'].value_counts()[0:10][::-1].iplot(kind=\"barh\",bargap=.5, \n",
    "                                                colors=\"#FFD39B\", layout=Layout(paper_bgcolor='rgba(0,0,0,0)',\n",
    "                                                                                plot_bgcolor='rgba(0,0,0,0)',\n",
    "                                                                                width=800, height=500, \n",
    "                                                                                title='Top Targets of terrorist attacks'))"
   ]
  },
  {
   "cell_type": "code",
   "execution_count": 48,
   "metadata": {
    "scrolled": false
   },
   "outputs": [
    {
     "data": {
      "application/vnd.plotly.v1+json": {
       "config": {
        "linkText": "Export to plot.ly",
        "plotlyServerURL": "https://plot.ly",
        "showLink": true
       },
       "data": [
        {
         "marker": {
          "color": "rgba(155, 205, 155, 0.6)",
          "line": {
           "color": "rgba(155, 205, 155, 1.0)",
           "width": 1
          }
         },
         "name": "Nationality",
         "orientation": "h",
         "text": "",
         "type": "bar",
         "uid": "fa109612-be75-49e2-8776-212959773711",
         "x": [
          4636,
          5065,
          5212,
          5840,
          6685,
          7922,
          10931,
          12098,
          13900,
          24113
         ],
         "y": [
          "Turkey",
          "United States",
          "El Salvador",
          "Peru",
          "Philippines",
          "Colombia",
          "Afghanistan",
          "India",
          "Pakistan",
          "Iraq"
         ]
        }
       ],
       "layout": {
        "height": 500,
        "margin": {
         "b": 50,
         "l": 200,
         "r": 50,
         "t": 80
        },
        "paper_bgcolor": "rgba(0,0,0,0)",
        "plot_bgcolor": "rgba(0,0,0,0)",
        "title": {
         "text": "Nationality of terrorist attacks"
        },
        "width": 800
       }
      },
      "text/html": [
       "<div>\n",
       "        \n",
       "        \n",
       "            <div id=\"269a8991-3c92-4f4d-979f-a5f92997b13c\" class=\"plotly-graph-div\" style=\"height:500px; width:800px;\"></div>\n",
       "            <script type=\"text/javascript\">\n",
       "                require([\"plotly\"], function(Plotly) {\n",
       "                    window.PLOTLYENV=window.PLOTLYENV || {};\n",
       "                    window.PLOTLYENV.BASE_URL='https://plot.ly';\n",
       "                    \n",
       "                if (document.getElementById(\"269a8991-3c92-4f4d-979f-a5f92997b13c\")) {\n",
       "                    Plotly.newPlot(\n",
       "                        '269a8991-3c92-4f4d-979f-a5f92997b13c',\n",
       "                        [{\"marker\": {\"color\": \"rgba(155, 205, 155, 0.6)\", \"line\": {\"color\": \"rgba(155, 205, 155, 1.0)\", \"width\": 1}}, \"name\": \"Nationality\", \"orientation\": \"h\", \"text\": \"\", \"type\": \"bar\", \"uid\": \"fa109612-be75-49e2-8776-212959773711\", \"x\": [4636, 5065, 5212, 5840, 6685, 7922, 10931, 12098, 13900, 24113], \"y\": [\"Turkey\", \"United States\", \"El Salvador\", \"Peru\", \"Philippines\", \"Colombia\", \"Afghanistan\", \"India\", \"Pakistan\", \"Iraq\"]}],\n",
       "                        {\"height\": 500, \"margin\": {\"b\": 50, \"l\": 200, \"r\": 50, \"t\": 80}, \"paper_bgcolor\": \"rgba(0,0,0,0)\", \"plot_bgcolor\": \"rgba(0,0,0,0)\", \"title\": {\"text\": \"Nationality of terrorist attacks\"}, \"width\": 800},\n",
       "                        {\"showLink\": true, \"linkText\": \"Export to plot.ly\", \"plotlyServerURL\": \"https://plot.ly\", \"responsive\": true}\n",
       "                    ).then(function(){\n",
       "                            \n",
       "var gd = document.getElementById('269a8991-3c92-4f4d-979f-a5f92997b13c');\n",
       "var x = new MutationObserver(function (mutations, observer) {{\n",
       "        var display = window.getComputedStyle(gd).display;\n",
       "        if (!display || display === 'none') {{\n",
       "            console.log([gd, 'removed!']);\n",
       "            Plotly.purge(gd);\n",
       "            observer.disconnect();\n",
       "        }}\n",
       "}});\n",
       "\n",
       "// Listen for the removal of the full notebook cells\n",
       "var notebookContainer = gd.closest('#notebook-container');\n",
       "if (notebookContainer) {{\n",
       "    x.observe(notebookContainer, {childList: true});\n",
       "}}\n",
       "\n",
       "// Listen for the clearing of the current output cell\n",
       "var outputEl = gd.closest('.output');\n",
       "if (outputEl) {{\n",
       "    x.observe(outputEl, {childList: true});\n",
       "}}\n",
       "\n",
       "                        })\n",
       "                };\n",
       "                });\n",
       "            </script>\n",
       "        </div>"
      ]
     },
     "metadata": {},
     "output_type": "display_data"
    }
   ],
   "source": [
    "data['Nationality'].value_counts()[0:10][::-1].iplot(kind=\"barh\",bargap=.5, \n",
    "                                                colors=\"#9BCD9B\", layout=Layout(paper_bgcolor='rgba(0,0,0,0)',\n",
    "                                                                                plot_bgcolor='rgba(0,0,0,0)',\n",
    "                                                                                width=800, height=500, \n",
    "                                                                                title='Nationality of terrorist attacks',\n",
    "                                                                                margin=dict(l=200, r=50, t=80, b=50)))"
   ]
  },
  {
   "cell_type": "markdown",
   "metadata": {},
   "source": [
    "#### Weapon Type Aanalysis\n",
    "Explosive is the primary weapon used in attacks followed by firearms"
   ]
  },
  {
   "cell_type": "code",
   "execution_count": 49,
   "metadata": {
    "scrolled": false
   },
   "outputs": [
    {
     "data": {
      "application/vnd.plotly.v1+json": {
       "config": {
        "linkText": "Export to plot.ly",
        "plotlyServerURL": "https://plot.ly",
        "showLink": true
       },
       "data": [
        {
         "marker": {
          "color": "rgba(205, 198, 115, 0.6)",
          "line": {
           "color": "rgba(205, 198, 115, 1.0)",
           "width": 1
          }
         },
         "name": "Weapon_type",
         "orientation": "h",
         "text": "",
         "type": "bar",
         "uid": "f5deb086-8662-4df8-9c71-6b0191ea9c90",
         "x": [
          35,
          114,
          136,
          141,
          321,
          3655,
          11135,
          15157,
          58524,
          92426
         ],
         "y": [
          "Biological",
          "Other",
          "Vehicle (not to include vehicle-borne explosives, i.e., car or truck bombs)",
          "Sabotage Equipment",
          "Chemical",
          "Melee",
          "Incendiary",
          "Unknown",
          "Firearms",
          "Explosives"
         ]
        }
       ],
       "layout": {
        "height": 500,
        "margin": {
         "b": 50,
         "l": 200,
         "r": 50,
         "t": 80
        },
        "paper_bgcolor": "rgba(0,0,0,0)",
        "plot_bgcolor": "rgba(0,0,0,0)",
        "title": {
         "text": "Top Weapon Type"
        },
        "width": 800
       }
      },
      "text/html": [
       "<div>\n",
       "        \n",
       "        \n",
       "            <div id=\"23886408-7d09-40bb-95cb-0f7928e5da99\" class=\"plotly-graph-div\" style=\"height:500px; width:800px;\"></div>\n",
       "            <script type=\"text/javascript\">\n",
       "                require([\"plotly\"], function(Plotly) {\n",
       "                    window.PLOTLYENV=window.PLOTLYENV || {};\n",
       "                    window.PLOTLYENV.BASE_URL='https://plot.ly';\n",
       "                    \n",
       "                if (document.getElementById(\"23886408-7d09-40bb-95cb-0f7928e5da99\")) {\n",
       "                    Plotly.newPlot(\n",
       "                        '23886408-7d09-40bb-95cb-0f7928e5da99',\n",
       "                        [{\"marker\": {\"color\": \"rgba(205, 198, 115, 0.6)\", \"line\": {\"color\": \"rgba(205, 198, 115, 1.0)\", \"width\": 1}}, \"name\": \"Weapon_type\", \"orientation\": \"h\", \"text\": \"\", \"type\": \"bar\", \"uid\": \"f5deb086-8662-4df8-9c71-6b0191ea9c90\", \"x\": [35, 114, 136, 141, 321, 3655, 11135, 15157, 58524, 92426], \"y\": [\"Biological\", \"Other\", \"Vehicle (not to include vehicle-borne explosives, i.e., car or truck bombs)\", \"Sabotage Equipment\", \"Chemical\", \"Melee\", \"Incendiary\", \"Unknown\", \"Firearms\", \"Explosives\"]}],\n",
       "                        {\"height\": 500, \"margin\": {\"b\": 50, \"l\": 200, \"r\": 50, \"t\": 80}, \"paper_bgcolor\": \"rgba(0,0,0,0)\", \"plot_bgcolor\": \"rgba(0,0,0,0)\", \"title\": {\"text\": \"Top Weapon Type\"}, \"width\": 800},\n",
       "                        {\"showLink\": true, \"linkText\": \"Export to plot.ly\", \"plotlyServerURL\": \"https://plot.ly\", \"responsive\": true}\n",
       "                    ).then(function(){\n",
       "                            \n",
       "var gd = document.getElementById('23886408-7d09-40bb-95cb-0f7928e5da99');\n",
       "var x = new MutationObserver(function (mutations, observer) {{\n",
       "        var display = window.getComputedStyle(gd).display;\n",
       "        if (!display || display === 'none') {{\n",
       "            console.log([gd, 'removed!']);\n",
       "            Plotly.purge(gd);\n",
       "            observer.disconnect();\n",
       "        }}\n",
       "}});\n",
       "\n",
       "// Listen for the removal of the full notebook cells\n",
       "var notebookContainer = gd.closest('#notebook-container');\n",
       "if (notebookContainer) {{\n",
       "    x.observe(notebookContainer, {childList: true});\n",
       "}}\n",
       "\n",
       "// Listen for the clearing of the current output cell\n",
       "var outputEl = gd.closest('.output');\n",
       "if (outputEl) {{\n",
       "    x.observe(outputEl, {childList: true});\n",
       "}}\n",
       "\n",
       "                        })\n",
       "                };\n",
       "                });\n",
       "            </script>\n",
       "        </div>"
      ]
     },
     "metadata": {},
     "output_type": "display_data"
    }
   ],
   "source": [
    "data['Weapon_type'].value_counts()[0:10][::-1].iplot(kind=\"barh\",bargap=.5, \n",
    "                                                colors=\"#CDC673\", layout=Layout(paper_bgcolor='rgba(0,0,0,0)',\n",
    "                                                                                plot_bgcolor='rgba(0,0,0,0)',\n",
    "                                                                                width=800, height=500, \n",
    "                                                                                title='Top Weapon Type', \n",
    "                                                                                margin=dict(l=200, r=50, t=80, b=50)))"
   ]
  },
  {
   "cell_type": "markdown",
   "metadata": {},
   "source": [
    "## Summary"
   ]
  },
  {
   "cell_type": "markdown",
   "metadata": {},
   "source": [
    "1. Mojority of the attackes happend in South Asia (~45000)\n",
    "2. Iraq is most affected country by attckes followed by Pakistan\n",
    "3. Baghdad suffered around 2.5 times more attacks compared to Karachi which is just next to it in the list\n",
    "4. Taliban is mostly responsible for terrorist activities followed by ISIL\n",
    "5. Explosives are the main source of conducting attacks "
   ]
  },
  {
   "cell_type": "code",
   "execution_count": 2,
   "metadata": {},
   "outputs": [
    {
     "ename": "NameError",
     "evalue": "name 'matplotlib' is not defined",
     "output_type": "error",
     "traceback": [
      "\u001b[1;31m---------------------------------------------------------------------------\u001b[0m",
      "\u001b[1;31mNameError\u001b[0m                                 Traceback (most recent call last)",
      "\u001b[1;32m<ipython-input-2-906e6795ffff>\u001b[0m in \u001b[0;36m<module>\u001b[1;34m\u001b[0m\n\u001b[1;32m----> 1\u001b[1;33m \u001b[0mhelp\u001b[0m\u001b[1;33m(\u001b[0m\u001b[0mmatplotlib\u001b[0m\u001b[1;33m)\u001b[0m\u001b[1;33m\u001b[0m\u001b[0m\n\u001b[0m",
      "\u001b[1;31mNameError\u001b[0m: name 'matplotlib' is not defined"
     ]
    }
   ],
   "source": [
    "help(matplotlib)"
   ]
  }
 ],
 "metadata": {
  "kernelspec": {
   "display_name": "Python 3",
   "language": "python",
   "name": "python3"
  },
  "language_info": {
   "codemirror_mode": {
    "name": "ipython",
    "version": 3
   },
   "file_extension": ".py",
   "mimetype": "text/x-python",
   "name": "python",
   "nbconvert_exporter": "python",
   "pygments_lexer": "ipython3",
   "version": "3.6.5"
  }
 },
 "nbformat": 4,
 "nbformat_minor": 2
}
